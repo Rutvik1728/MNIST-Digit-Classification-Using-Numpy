{
  "nbformat": 4,
  "nbformat_minor": 0,
  "metadata": {
    "colab": {
      "provenance": []
    },
    "kernelspec": {
      "name": "python3",
      "display_name": "Python 3"
    },
    "language_info": {
      "name": "python"
    }
  },
  "cells": [
    {
      "cell_type": "code",
      "source": [
        "import numpy as np\n",
        "import matplotlib.pyplot as plt\n",
        "from keras.datasets import mnist"
      ],
      "metadata": {
        "id": "DsGKKHQXqmFL"
      },
      "execution_count": 1,
      "outputs": []
    },
    {
      "cell_type": "code",
      "source": [
        "def softmax(x):\n",
        "  exp_element=np.exp(x-x.max())\n",
        "  return exp_element/np.sum(exp_element, keepdims=True, axis=0)\n",
        "\n",
        "def d_softmax(x):\n",
        "  exp_element=np.exp(x-x.max())\n",
        "  return exp_element/np.sum(exp_element,axis=0)*(1-exp_element/np.sum(exp_element,axis=0))\n",
        "\n",
        "def relu(x):\n",
        "  return np.maximum(0,x)\n",
        "  \n",
        "def d_relu(da,z):\n",
        "  dz = np.array(da, copy=True)\n",
        "  dz[z<=0] = 0\n",
        "  dz[z>0] = 1\n",
        "  return dz\n",
        "\n",
        "def sigmoid(x):\n",
        "  return 1/(np.exp(-x)+1)\n",
        "\n",
        "def d_sigmoid(x):\n",
        "  return (np.exp(-x))/((np.exp(-x)+1)**2)\n",
        "\n",
        "def one_hot(row_vector, no_classes):\n",
        "  one_hot_vector = np.eye(no_classes)[row_vector.reshape(-1)]\n",
        "  return one_hot_vector.T"
      ],
      "metadata": {
        "id": "7YLs6q0P-uIO"
      },
      "execution_count": 2,
      "outputs": []
    },
    {
      "cell_type": "code",
      "execution_count": 3,
      "metadata": {
        "id": "QFL0Rm4miuyC"
      },
      "outputs": [],
      "source": [
        "class NeuralNet:\n",
        "\n",
        "  def __init__(self, layers):\n",
        "    self.num_layers = len(layers)\n",
        "    num_layers = self.num_layers\n",
        "    self.W = []\n",
        "    self.B = []\n",
        "    for i in range(1, self.num_layers):\n",
        "      self.W.append(np.random.randn(layers[i], layers[i-1])*np.sqrt(2/layers[i-1]))\n",
        "      self.B.append(np.zeros((layers[i],1)))\n",
        "\n",
        "  def forward(self, X):\n",
        "    self.Z = []\n",
        "    self.A = []\n",
        "    self.A.append(X)   \n",
        "    for i in range(1, self.num_layers-1):\n",
        "      self.Z.append(np.dot(self.W[i-1], self.A[i-1]) + self.B[i-1])\n",
        "      self.A.append(relu(self.Z[i-1]))\n",
        "    self.Z.append(np.dot(self.W[self.num_layers-2], self.A[self.num_layers-2]) + self.B[self.num_layers-2])\n",
        "    self.A.append(softmax(self.Z[self.num_layers-2]))\n",
        "    return self.Z, self.A\n",
        "\n",
        "  def cost(self, Y):\n",
        "    self.L = -np.sum(Y*np.log(self.A[self.num_layers-1] + 10**-7), keepdims=True, axis=0)\n",
        "    self.J = np.sum(self.L, keepdims=True, axis=1)/60000\n",
        "    return self.L, self.J\n",
        "\n",
        "  def accuracy(self, Y):\n",
        "    self.acc = np.multiply(self.A[-1], Y)\n",
        "    self.acc = np.sum(self.acc)/600\n",
        "    return self.acc\n",
        "\n",
        "  def backward(self, Y):\n",
        "    self.dA = []\n",
        "    self.dB = []\n",
        "    self.dW = []\n",
        "    self.dZ = []\n",
        "    self.dZ.append(self.A[self.num_layers-1] - Y)\n",
        "    self.dW.append(np.dot(self.dZ[0], self.A[self.num_layers-2].T)/60000)\n",
        "    self.dB.append(np.sum(self.dZ[0], axis=1, keepdims=True)/60000)\n",
        "    self.dA.append(np.dot(self.W[self.num_layers-2].T, self.dZ[0]))\n",
        "    for i in range(1,self.num_layers-1):\n",
        "      self.dZ.append(np.multiply(self.dA[i-1], d_relu(self.dA[i-1], self.Z[self.num_layers-i-2])))\n",
        "      self.dW.append(np.dot(self.dZ[i], self.A[self.num_layers-i-2].T)/60000)\n",
        "      self.dB.append(np.sum(self.dZ[i], axis=1, keepdims=True)/60000)\n",
        "      self.dA.append(np.dot(self.W[self.num_layers-i-2].T, self.dZ[i]))\n",
        "    return self.dA, self.dB, self.dW, self.dZ\n",
        "\n",
        "  def gradient(self, alpha):\n",
        "    for i in range(0,self.num_layers-1):\n",
        "      self.W[i] = self.W[i] - (alpha)*(self.dW[self.num_layers-i-2])\n",
        "      self.B[i] = self.B[i] - (alpha)*(self.dB[self.num_layers-i-2])\n",
        "    return self.W, self.B"
      ]
    },
    {
      "cell_type": "code",
      "source": [
        "(x_train, y_train), (x_test, y_test) = mnist.load_data()\n",
        "x_train = x_train.reshape(x_train.shape[0], -1).T\n",
        "x_test = x_test.reshape(x_test.shape[0], -1).T\n",
        "x_train = x_train.astype(float)\n",
        "x_test = x_test.astype(float)\n",
        "x_train /= 255\n",
        "x_test /= 255\n",
        "y_train = one_hot(y_train, 10)\n",
        "y_test = one_hot(y_test, 10)\n",
        "assert x_train.shape == (784, 60000)\n",
        "assert x_test.shape == (784, 10000)\n",
        "assert y_train.shape == (10, 60000)\n",
        "assert y_test.shape == (10, 10000)"
      ],
      "metadata": {
        "id": "aloQS3dXydaz",
        "colab": {
          "base_uri": "https://localhost:8080/"
        },
        "outputId": "0867e969-f20c-4527-ee34-e48bd591cb93"
      },
      "execution_count": 4,
      "outputs": [
        {
          "output_type": "stream",
          "name": "stdout",
          "text": [
            "Downloading data from https://storage.googleapis.com/tensorflow/tf-keras-datasets/mnist.npz\n",
            "11490434/11490434 [==============================] - 0s 0us/step\n"
          ]
        }
      ]
    },
    {
      "cell_type": "code",
      "source": [
        "net = NeuralNet([784, 512, 392, 128, 32, 10])\n",
        "print(np.shape(net.B[3]))\n",
        "z, a = net.forward(x_train)\n",
        "print(np.shape(a[0]))\n",
        "da, db, dw, dz = net.backward(y_train)\n",
        "print(np.shape(dw[3]))\n",
        "w, b = net.gradient(0.01)\n",
        "print(np.shape(w[0]))"
      ],
      "metadata": {
        "id": "Mdm9zH_2HU1z",
        "colab": {
          "base_uri": "https://localhost:8080/"
        },
        "outputId": "3d858c6e-573d-4211-9403-62ef57ae0728"
      },
      "execution_count": 28,
      "outputs": [
        {
          "output_type": "stream",
          "name": "stdout",
          "text": [
            "(32, 1)\n",
            "(784, 60000)\n",
            "(392, 512)\n",
            "(512, 784)\n"
          ]
        }
      ]
    },
    {
      "cell_type": "code",
      "source": [
        "Net = NeuralNet([784, 392, 196, 10])"
      ],
      "metadata": {
        "id": "UZe-KkajPG-M"
      },
      "execution_count": 24,
      "outputs": []
    },
    {
      "cell_type": "code",
      "source": [
        "cost_func = []\n",
        "accuracy = []\n",
        "for j in range(0,201):\n",
        "  Net.forward(x_train)\n",
        "  L, J = Net.cost(y_train)\n",
        "  acc = Net.accuracy(y_train)\n",
        "  cost_func.append(np.squeeze(J))\n",
        "  accuracy.append(acc)\n",
        "  if j%5 ==0:\n",
        "      print(f'epoch : {j} / cost : {np.squeeze(J)} / accuracy : {acc}')\n",
        "  Net.backward(y_train)\n",
        "  Net.gradient(0.03)"
      ],
      "metadata": {
        "colab": {
          "base_uri": "https://localhost:8080/"
        },
        "id": "mzqPkGdMWAKH",
        "outputId": "11f4737b-daa7-4465-a55c-3730ed83f88f"
      },
      "execution_count": 25,
      "outputs": [
        {
          "output_type": "stream",
          "name": "stdout",
          "text": [
            "epoch : 0 / cost : 2.398062793763751 / accuracy : 10.05459891349267\n",
            "epoch : 5 / cost : 2.1768684525591877 / accuracy : 11.828462984824949\n",
            "epoch : 10 / cost : 2.0113323626403434 / accuracy : 13.934106356826323\n",
            "epoch : 15 / cost : 1.8638734944623951 / accuracy : 16.38735873172521\n",
            "epoch : 20 / cost : 1.7246763155883842 / accuracy : 19.18520455423538\n",
            "epoch : 25 / cost : 1.5921368579063166 / accuracy : 22.29143114445256\n",
            "epoch : 30 / cost : 1.4672973123707516 / accuracy : 25.638971402033317\n",
            "epoch : 35 / cost : 1.3520953876621864 / accuracy : 29.127164049544415\n",
            "epoch : 40 / cost : 1.2479024070788294 / accuracy : 32.64230188810938\n",
            "epoch : 45 / cost : 1.1552814130952929 / accuracy : 36.078566341407445\n",
            "epoch : 50 / cost : 1.0740081133960602 / accuracy : 39.35212318749019\n",
            "epoch : 55 / cost : 1.0031762381803748 / accuracy : 42.41217751043716\n",
            "epoch : 60 / cost : 0.9416902888486467 / accuracy : 45.23226216858262\n",
            "epoch : 65 / cost : 0.8882387866101107 / accuracy : 47.8108962449671\n",
            "epoch : 70 / cost : 0.8416510383928104 / accuracy : 50.15680521550825\n",
            "epoch : 75 / cost : 0.8008722718000535 / accuracy : 52.28669916672142\n",
            "epoch : 80 / cost : 0.7649900493044708 / accuracy : 54.22102720549542\n",
            "epoch : 85 / cost : 0.733248399932801 / accuracy : 55.97854277053747\n",
            "epoch : 90 / cost : 0.7050146855820644 / accuracy : 57.57882094808695\n",
            "epoch : 95 / cost : 0.6797809761320944 / accuracy : 59.03815531462871\n",
            "epoch : 100 / cost : 0.6571071937277826 / accuracy : 60.37291711656683\n",
            "epoch : 105 / cost : 0.6366232976372044 / accuracy : 61.59757248591724\n",
            "epoch : 110 / cost : 0.6180450521047266 / accuracy : 62.723638288925876\n",
            "epoch : 115 / cost : 0.6011202663148195 / accuracy : 63.76226472233798\n",
            "epoch : 120 / cost : 0.5856413052968275 / accuracy : 64.72279090432767\n",
            "epoch : 125 / cost : 0.5714253416028605 / accuracy : 65.61372028350264\n",
            "epoch : 130 / cost : 0.5583275293198985 / accuracy : 66.44202262707643\n",
            "epoch : 135 / cost : 0.5462114077055594 / accuracy : 67.21435289385656\n",
            "epoch : 140 / cost : 0.5349688518356487 / accuracy : 67.93622404605462\n",
            "epoch : 145 / cost : 0.524508079286404 / accuracy : 68.61237664675502\n",
            "epoch : 150 / cost : 0.5147513174075653 / accuracy : 69.24671400723702\n",
            "epoch : 155 / cost : 0.5056260955510795 / accuracy : 69.84347171618005\n",
            "epoch : 160 / cost : 0.4970717679873068 / accuracy : 70.40573855511698\n",
            "epoch : 165 / cost : 0.48903491530744686 / accuracy : 70.93651211416966\n",
            "epoch : 170 / cost : 0.4814713138430468 / accuracy : 71.438242325136\n",
            "epoch : 175 / cost : 0.4743376572616706 / accuracy : 71.91326044749856\n",
            "epoch : 180 / cost : 0.467596061566169 / accuracy : 72.36374335140886\n",
            "epoch : 185 / cost : 0.4612147330921251 / accuracy : 72.79149210139273\n",
            "epoch : 190 / cost : 0.4551657334807211 / accuracy : 73.19817383990288\n",
            "epoch : 195 / cost : 0.4494215694765615 / accuracy : 73.58529075671235\n",
            "epoch : 200 / cost : 0.4439603362958894 / accuracy : 73.95435791929455\n"
          ]
        }
      ]
    },
    {
      "cell_type": "code",
      "source": [
        "plt.plot(cost_func)\n",
        "plt.title(\"Multi Layer Loss\")\n",
        "plt.show()"
      ],
      "metadata": {
        "colab": {
          "base_uri": "https://localhost:8080/",
          "height": 281
        },
        "id": "9dJMHND3Wir6",
        "outputId": "8ace1fa9-025f-4990-c258-c89a1e8d930f"
      },
      "execution_count": 26,
      "outputs": [
        {
          "output_type": "display_data",
          "data": {
            "text/plain": [
              "<Figure size 432x288 with 1 Axes>"
            ],
            "image/png": "[encoded data removed]"
          },
          "metadata": {
            "needs_background": "light"
          }
        }
      ]
    },
    {
      "cell_type": "code",
      "source": [
        "plt.plot(accuracy)\n",
        "plt.title(\"Multi Layer Accuracy\")\n",
        "plt.show()"
      ],
      "metadata": {
        "colab": {
          "base_uri": "https://localhost:8080/",
          "height": 281
        },
        "id": "CMqi7KAWMnYR",
        "outputId": "cce71871-719a-4273-8d95-2001437da72b"
      },
      "execution_count": 27,
      "outputs": [
        {
          "output_type": "display_data",
          "data": {
            "text/plain": [
              "<Figure size 432x288 with 1 Axes>"
            ],
            "image/png": "[encoded data removed]"
          },
          "metadata": {
            "needs_background": "light"
          }
        }
      ]
    }
  ]
}