{
  "nbformat": 4,
  "nbformat_minor": 0,
  "metadata": {
    "colab": {
      "provenance": []
    },
    "kernelspec": {
      "name": "python3",
      "display_name": "Python 3"
    },
    "language_info": {
      "name": "python"
    }
  },
  "cells": [
    {
      "cell_type": "code",
      "source": [
        "import numpy as np\n",
        "import matplotlib.pyplot as plt\n",
        "from keras.datasets import mnist"
      ],
      "metadata": {
        "id": "DsGKKHQXqmFL"
      },
      "execution_count": 1,
      "outputs": []
    },
    {
      "cell_type": "code",
      "source": [
        "def softmax(x):\n",
        "  exp_element=np.exp(x-x.max())\n",
        "  return exp_element/np.sum(exp_element, keepdims=True, axis=0)\n",
        "\n",
        "def d_softmax(x):\n",
        "  exp_element=np.exp(x-x.max())\n",
        "  return exp_element/np.sum(exp_element,axis=0)*(1-exp_element/np.sum(exp_element,axis=0))\n",
        "\n",
        "def relu(x):\n",
        "  return np.maximum(0,x)\n",
        "  \n",
        "def d_relu(da,z):\n",
        "  dz = np.array(da, copy=True)\n",
        "  dz[z<=0] = 0\n",
        "  dz[z>0] = 1\n",
        "  return dz\n",
        "\n",
        "def sigmoid(x):\n",
        "  return 1/(np.exp(-x)+1)\n",
        "\n",
        "def d_sigmoid(x):\n",
        "  return (np.exp(-x))/((np.exp(-x)+1)**2)\n",
        "\n",
        "def one_hot(row_vector, no_classes):\n",
        "  one_hot_vector = np.eye(no_classes)[row_vector.reshape(-1)]\n",
        "  return one_hot_vector.T"
      ],
      "metadata": {
        "id": "7YLs6q0P-uIO"
      },
      "execution_count": 2,
      "outputs": []
    },
    {
      "cell_type": "code",
      "execution_count": 15,
      "metadata": {
        "id": "QFL0Rm4miuyC"
      },
      "outputs": [],
      "source": [
        "class NeuralNet:\n",
        "\n",
        "  def __init__(self, layers):\n",
        "    self.num_layers = len(layers)\n",
        "    num_layers = self.num_layers\n",
        "    self.W = []\n",
        "    self.B = []\n",
        "    for i in range(1, self.num_layers):\n",
        "      self.W.append(np.random.randn(layers[i], layers[i-1])*np.sqrt(2/layers[i-1]))\n",
        "      self.B.append(np.zeros((layers[i],1)))\n",
        "\n",
        "  def forward(self, X):\n",
        "    self.Z = []\n",
        "    self.A = []\n",
        "    self.A.append(X)   \n",
        "    for i in range(1, self.num_layers-1):\n",
        "      self.Z.append(np.dot(self.W[i-1], self.A[i-1]) + self.B[i-1])\n",
        "      self.A.append(relu(self.Z[i-1]))\n",
        "    self.Z.append(np.dot(self.W[self.num_layers-2], self.A[self.num_layers-2]) + self.B[self.num_layers-2])\n",
        "    self.A.append(softmax(self.Z[self.num_layers-2]))\n",
        "    return self.Z, self.A\n",
        "\n",
        "  def cost(self, Y):\n",
        "    self.L = -np.sum(Y*np.log(self.A[self.num_layers-1] + 10**-7), keepdims=True, axis=0)\n",
        "    self.J = np.sum(self.L, keepdims=True, axis=1)/60000\n",
        "    return self.L, self.J\n",
        "\n",
        "  def backward(self, Y):\n",
        "    self.dA = []\n",
        "    self.dB = []\n",
        "    self.dW = []\n",
        "    self.dZ = []\n",
        "    self.dZ.append(self.A[self.num_layers-1] - Y)\n",
        "    self.dW.append(np.dot(self.dZ[0], self.A[self.num_layers-2].T)/60000)\n",
        "    self.dB.append(np.sum(self.dZ[0], axis=1, keepdims=True)/60000)\n",
        "    self.dA.append(np.dot(self.W[self.num_layers-2].T, self.dZ[0]))\n",
        "    for i in range(1,self.num_layers-1):\n",
        "      self.dZ.append(np.multiply(self.dA[i-1], d_relu(self.dA[i-1], self.Z[self.num_layers-i-2])))\n",
        "      self.dW.append(np.dot(self.dZ[i], self.A[self.num_layers-i-2].T)/60000)\n",
        "      self.dB.append(np.sum(self.dZ[i], axis=1, keepdims=True)/60000)\n",
        "      self.dA.append(np.dot(self.W[self.num_layers-i-2].T, self.dZ[i]))\n",
        "    return self.dA, self.dB, self.dW, self.dZ\n",
        "\n",
        "  def gradient(self, alpha):\n",
        "    for i in range(0,self.num_layers-1):\n",
        "      self.W[i] = self.W[i] - (alpha)*(self.dW[self.num_layers-i-2])\n",
        "      self.B[i] = self.B[i] - (alpha)*(self.dB[self.num_layers-i-2])\n",
        "    return self.W, self.B"
      ]
    },
    {
      "cell_type": "code",
      "source": [
        "(x_train, y_train), (x_test, y_test) = mnist.load_data()\n",
        "x_train = x_train.reshape(x_train.shape[0], -1).T\n",
        "x_test = x_test.reshape(x_test.shape[0], -1).T\n",
        "x_train = x_train.astype(float)\n",
        "x_test = x_test.astype(float)\n",
        "x_train /= 255\n",
        "x_test /= 255\n",
        "y_train = one_hot(y_train, 10)\n",
        "y_test = one_hot(y_test, 10)\n",
        "assert x_train.shape == (784, 60000)\n",
        "assert x_test.shape == (784, 10000)\n",
        "assert y_train.shape == (10, 60000)\n",
        "assert y_test.shape == (10, 10000)"
      ],
      "metadata": {
        "id": "aloQS3dXydaz"
      },
      "execution_count": null,
      "outputs": []
    },
    {
      "cell_type": "code",
      "source": [
        "net = NeuralNet([784, 512, 128, 32, 10])\n",
        "print(np.shape(net.B[3]))\n",
        "z, a = net.forward(x_train)\n",
        "print(np.shape(a[0]))\n",
        "da, db, dw, dz = net.backward(y_train)\n",
        "print(np.shape(dw[3]))\n",
        "w, b = net.gradient(0.01)\n",
        "print(np.shape(w[0]))"
      ],
      "metadata": {
        "id": "Mdm9zH_2HU1z"
      },
      "execution_count": null,
      "outputs": []
    },
    {
      "cell_type": "code",
      "source": [
        "Net = NeuralNet([784,512,128,32,10])"
      ],
      "metadata": {
        "id": "UZe-KkajPG-M"
      },
      "execution_count": 16,
      "outputs": []
    },
    {
      "cell_type": "code",
      "source": [
        "cost_func = []\n",
        "for j in range(0,100):\n",
        "  Net.forward(x_train)\n",
        "  L, J = Net.cost(y_train)\n",
        "  cost_func.append(np.squeeze(J))\n",
        "  if j%5 ==0:\n",
        "      print(f'{j} : {J}')\n",
        "  Net.backward(y_train)\n",
        "  Net.gradient(0.05)"
      ],
      "metadata": {
        "colab": {
          "base_uri": "https://localhost:8080/"
        },
        "id": "mzqPkGdMWAKH",
        "outputId": "839af036-2a17-4e99-e8b1-137dc427bff8"
      },
      "execution_count": 17,
      "outputs": [
        {
          "output_type": "stream",
          "name": "stdout",
          "text": [
            "0 : [[2.28635091]]\n",
            "5 : [[2.0949873]]\n",
            "10 : [[1.88842013]]\n",
            "15 : [[1.65889263]]\n",
            "20 : [[1.43704615]]\n",
            "25 : [[1.24383078]]\n",
            "30 : [[1.08583389]]\n",
            "35 : [[0.96095355]]\n",
            "40 : [[0.86329773]]\n",
            "45 : [[0.78638647]]\n",
            "50 : [[0.72503204]]\n",
            "55 : [[0.67522619]]\n",
            "60 : [[0.63404403]]\n",
            "65 : [[0.5993952]]\n",
            "70 : [[0.56980419]]\n",
            "75 : [[0.54420199]]\n",
            "80 : [[0.52181018]]\n",
            "85 : [[0.50203784]]\n",
            "90 : [[0.48443947]]\n",
            "95 : [[0.46869038]]\n"
          ]
        }
      ]
    },
    {
      "cell_type": "code",
      "source": [
        "plt.plot(cost_func)\n",
        "plt.title(\"Multi Layer Loss\")\n",
        "plt.show()"
      ],
      "metadata": {
        "colab": {
          "base_uri": "https://localhost:8080/",
          "height": 281
        },
        "id": "9dJMHND3Wir6",
        "outputId": "cd7cf90a-470f-4a5e-952c-f49c191b48e6"
      },
      "execution_count": 18,
      "outputs": [
        {
          "output_type": "display_data",
          "data": {
            "text/plain": [
              "<Figure size 432x288 with 1 Axes>"
            ],
            "image/png": "[encoded data removed]"
          },
          "metadata": {
            "needs_background": "light"
          }
        }
      ]
    }
  ]
}