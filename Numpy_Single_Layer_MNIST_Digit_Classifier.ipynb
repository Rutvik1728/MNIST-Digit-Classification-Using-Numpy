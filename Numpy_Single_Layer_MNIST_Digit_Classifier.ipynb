{
  "nbformat": 4,
  "nbformat_minor": 0,
  "metadata": {
    "colab": {
      "provenance": [],
      "collapsed_sections": []
    },
    "kernelspec": {
      "name": "python3",
      "display_name": "Python 3"
    },
    "language_info": {
      "name": "python"
    }
  },
  "cells": [
    {
      "cell_type": "code",
      "execution_count": 1,
      "metadata": {
        "id": "pTbHtji7hVCI",
        "colab": {
          "base_uri": "https://localhost:8080/"
        },
        "outputId": "44645eb6-91ee-48df-f9f0-e67a4a01bc22"
      },
      "outputs": [
        {
          "output_type": "stream",
          "name": "stdout",
          "text": [
            "--2022-10-22 11:39:53--  http://yann.lecun.com/exdb/mnist/train-images-idx3-ubyte.gz\n",
            "Resolving yann.lecun.com (yann.lecun.com)... 172.67.171.76, 104.21.29.36, 2606:4700:3034::6815:1d24, ...\n",
            "Connecting to yann.lecun.com (yann.lecun.com)|172.67.171.76|:80... connected.\n",
            "HTTP request sent, awaiting response... 200 OK\n",
            "Length: 9912422 (9.5M) [application/x-gzip]\n",
            "Saving to: ‘/content/data/train-images-idx3-ubyte.gz’\n",
            "\n",
            "\r          train-ima   0%[                    ]       0  --.-KB/s               \rtrain-images-idx3-u 100%[===================>]   9.45M  --.-KB/s    in 0.04s   \n",
            "\n",
            "2022-10-22 11:39:54 (265 MB/s) - ‘/content/data/train-images-idx3-ubyte.gz’ saved [9912422/9912422]\n",
            "\n",
            "--2022-10-22 11:39:54--  http://yann.lecun.com/exdb/mnist/train-labels-idx1-ubyte.gz\n",
            "Resolving yann.lecun.com (yann.lecun.com)... 172.67.171.76, 104.21.29.36, 2606:4700:3034::6815:1d24, ...\n",
            "Connecting to yann.lecun.com (yann.lecun.com)|172.67.171.76|:80... connected.\n",
            "HTTP request sent, awaiting response... 200 OK\n",
            "Length: 28881 (28K) [application/x-gzip]\n",
            "Saving to: ‘/content/data/train-labels-idx1-ubyte.gz’\n",
            "\n",
            "train-labels-idx1-u 100%[===================>]  28.20K  --.-KB/s    in 0s      \n",
            "\n",
            "2022-10-22 11:39:54 (364 MB/s) - ‘/content/data/train-labels-idx1-ubyte.gz’ saved [28881/28881]\n",
            "\n",
            "--2022-10-22 11:39:54--  http://yann.lecun.com/exdb/mnist/t10k-images-idx3-ubyte.gz\n",
            "Resolving yann.lecun.com (yann.lecun.com)... 172.67.171.76, 104.21.29.36, 2606:4700:3034::6815:1d24, ...\n",
            "Connecting to yann.lecun.com (yann.lecun.com)|172.67.171.76|:80... connected.\n",
            "HTTP request sent, awaiting response... 200 OK\n",
            "Length: 1648877 (1.6M) [application/x-gzip]\n",
            "Saving to: ‘/content/data/t10k-images-idx3-ubyte.gz’\n",
            "\n",
            "t10k-images-idx3-ub 100%[===================>]   1.57M  --.-KB/s    in 0.02s   \n",
            "\n",
            "2022-10-22 11:39:54 (67.0 MB/s) - ‘/content/data/t10k-images-idx3-ubyte.gz’ saved [1648877/1648877]\n",
            "\n",
            "--2022-10-22 11:39:54--  http://yann.lecun.com/exdb/mnist/t10k-labels-idx1-ubyte.gz\n",
            "Resolving yann.lecun.com (yann.lecun.com)... 172.67.171.76, 104.21.29.36, 2606:4700:3034::6815:1d24, ...\n",
            "Connecting to yann.lecun.com (yann.lecun.com)|172.67.171.76|:80... connected.\n",
            "HTTP request sent, awaiting response... 200 OK\n",
            "Length: 4542 (4.4K) [application/x-gzip]\n",
            "Saving to: ‘/content/data/t10k-labels-idx1-ubyte.gz’\n",
            "\n",
            "t10k-labels-idx1-ub 100%[===================>]   4.44K  --.-KB/s    in 0s      \n",
            "\n",
            "2022-10-22 11:39:54 (425 MB/s) - ‘/content/data/t10k-labels-idx1-ubyte.gz’ saved [4542/4542]\n",
            "\n",
            "Looking in indexes: https://pypi.org/simple, https://us-python.pkg.dev/colab-wheels/public/simple/\n",
            "Collecting idx2numpy\n",
            "  Downloading idx2numpy-1.2.3.tar.gz (6.8 kB)\n",
            "Requirement already satisfied: numpy in /usr/local/lib/python3.7/dist-packages (from idx2numpy) (1.21.6)\n",
            "Requirement already satisfied: six in /usr/local/lib/python3.7/dist-packages (from idx2numpy) (1.15.0)\n",
            "Building wheels for collected packages: idx2numpy\n",
            "  Building wheel for idx2numpy (setup.py) ... \u001b[?25l\u001b[?25hdone\n",
            "  Created wheel for idx2numpy: filename=idx2numpy-1.2.3-py3-none-any.whl size=7917 sha256=3ff5a9cf684173f748a4b3e7a758101e14b2864c6fd946aa493649ca4b81597f\n",
            "  Stored in directory: /root/.cache/pip/wheels/1a/ce/ad/d5e95a35cfe34149aade5e500f2edd535c0566d79e9a8e1d8a\n",
            "Successfully built idx2numpy\n",
            "Installing collected packages: idx2numpy\n",
            "Successfully installed idx2numpy-1.2.3\n"
          ]
        }
      ],
      "source": [
        "!wget -P /content/data http://yann.lecun.com/exdb/mnist/train-images-idx3-ubyte.gz\n",
        "!wget -P /content/data http://yann.lecun.com/exdb/mnist/train-labels-idx1-ubyte.gz\n",
        "!wget -P /content/data http://yann.lecun.com/exdb/mnist/t10k-images-idx3-ubyte.gz\n",
        "!wget -P /content/data http://yann.lecun.com/exdb/mnist/t10k-labels-idx1-ubyte.gz\n",
        "!pip install idx2numpy"
      ]
    },
    {
      "cell_type": "code",
      "source": [
        "import gzip\n",
        "import math\n",
        "import numpy as np\n",
        "import matplotlib.pyplot as plt\n",
        "import matplotlib.image as mpimg\n",
        "import idx2numpy\n",
        "import cv2\n",
        "from google.colab.patches import cv2_imshow"
      ],
      "metadata": {
        "id": "jcoG7PAihu1o"
      },
      "execution_count": 2,
      "outputs": []
    },
    {
      "cell_type": "code",
      "source": [
        "f1 = gzip.open('/content/data/train-images-idx3-ubyte.gz')\n",
        "f2 = gzip.open('/content/data/train-labels-idx1-ubyte.gz')\n",
        "f3 = gzip.open('/content/data/t10k-images-idx3-ubyte.gz')\n",
        "f4 = gzip.open('/content/data/t10k-labels-idx1-ubyte.gz')\n",
        "data1 = idx2numpy.convert_from_file(f1)\n",
        "label = idx2numpy.convert_from_file(f2)\n",
        "img = data1.reshape(data1.shape[0], -1).T/255\n",
        "lab = np.eye(10)[label]\n",
        "lab = lab.T"
      ],
      "metadata": {
        "id": "Cqce975Ehzzm"
      },
      "execution_count": 3,
      "outputs": []
    },
    {
      "cell_type": "code",
      "source": [
        "W = np.random.randn(784,10)*0.001\n",
        "b = 0\n",
        "\n",
        "def softmax(x):\n",
        "  expo = np.exp(x - x.max())\n",
        "  expo = expo/np.sum(expo, keepdims = True, axis = 0)\n",
        "  return expo\n",
        "\n",
        "def d_softmax(x):\n",
        "    exp_element = np.exp(x - x.max())\n",
        "    exp_element = exp_element/np.sum(exp_element,axis=0)*(1-exp_element/np.sum(exp_element,axis=0))\n",
        "    return exp_element\n",
        "\n",
        "\n",
        "cost = 0\n",
        "cost_func = []\n",
        "accuracy = []"
      ],
      "metadata": {
        "id": "D2IFOCrjiEW_"
      },
      "execution_count": 4,
      "outputs": []
    },
    {
      "cell_type": "code",
      "source": [
        "alpha = 0.5"
      ],
      "metadata": {
        "id": "qCDqNrafuJaH"
      },
      "execution_count": 5,
      "outputs": []
    },
    {
      "cell_type": "code",
      "source": [
        "for i in range(0,300):\n",
        "  #Forward Prop\n",
        "  Z = np.dot(W.T, img) + b\n",
        "  A = softmax(Z)\n",
        "\n",
        "  #Getting Output\n",
        "  out = A.reshape(10,60000)\n",
        "  guess = np.argmax(out, axis = 0)\n",
        "\n",
        "  #Printing Output\n",
        "  if i%10 == 0:\n",
        "    print(label)\n",
        "    print(guess)\n",
        "\n",
        "  #Loss and Cost\n",
        "  loss = -np.sum(lab*np.log(A + 0.000001) + (1-lab)*np.log(1-A + 0.000001), keepdims = True, axis = 0)\n",
        "  cost = np.sum(loss, keepdims = True, axis = 1)/60000\n",
        "  cost = float(np.squeeze(cost))\n",
        "  cost_func.append(cost)\n",
        "  if i%10==0:\n",
        "    print(cost)\n",
        "\n",
        "  #Getting Accuracy\n",
        "  OH_out = (np.eye(10)[guess]).T\n",
        "  acc = np.multiply(OH_out, lab)\n",
        "  acc = np.sum(acc)/600\n",
        "  accuracy.append(acc)\n",
        "\n",
        "  if i%10 == 0:\n",
        "    print(acc)\n",
        "\n",
        "  #Backward Prop\n",
        "  dZ = A - lab\n",
        "  dW = np.dot(img, dZ.T)/60000\n",
        "  db = np.sum(dZ, keepdims=True, axis=1)/60000\n",
        "  W = W - alpha*dW\n",
        "  b = b - alpha*db"
      ],
      "metadata": {
        "id": "tqjErsy__xiE",
        "colab": {
          "base_uri": "https://localhost:8080/"
        },
        "outputId": "24eadeda-502c-4784-8642-16d206aea5bf"
      },
      "execution_count": 6,
      "outputs": [
        {
          "output_type": "stream",
          "name": "stdout",
          "text": [
            "[5 0 4 ... 5 6 8]\n",
            "[7 7 0 ... 0 5 0]\n",
            "3.253733449295833\n",
            "4.298333333333333\n",
            "[5 0 4 ... 5 6 8]\n",
            "[5 0 4 ... 5 6 8]\n",
            "1.2887874504911447\n",
            "83.93833333333333\n",
            "[5 0 4 ... 5 6 8]\n",
            "[5 0 4 ... 5 6 8]\n",
            "1.0066578935118522\n",
            "86.13333333333334\n",
            "[5 0 4 ... 5 6 8]\n",
            "[5 0 4 ... 5 6 8]\n",
            "0.8872928463403681\n",
            "87.08\n",
            "[5 0 4 ... 5 6 8]\n",
            "[5 0 4 ... 5 6 8]\n",
            "0.8182100985413365\n",
            "87.72666666666667\n",
            "[5 0 4 ... 5 6 8]\n",
            "[5 0 4 ... 5 6 8]\n",
            "0.7720131300203346\n",
            "88.19333333333333\n",
            "[5 0 4 ... 5 6 8]\n",
            "[5 0 4 ... 5 6 8]\n",
            "0.7383939064907808\n",
            "88.55\n",
            "[5 0 4 ... 5 6 8]\n",
            "[5 0 4 ... 5 6 8]\n",
            "0.7125299213130432\n",
            "88.84666666666666\n",
            "[5 0 4 ... 5 6 8]\n",
            "[5 0 4 ... 5 6 8]\n",
            "0.6918350540761327\n",
            "89.07166666666667\n",
            "[5 0 4 ... 5 6 8]\n",
            "[5 0 4 ... 5 6 8]\n",
            "0.6747853450232488\n",
            "89.28833333333333\n",
            "[5 0 4 ... 5 6 8]\n",
            "[5 0 4 ... 5 6 8]\n",
            "0.6604183376331014\n",
            "89.46666666666667\n",
            "[5 0 4 ... 5 6 8]\n",
            "[5 0 4 ... 5 6 8]\n",
            "0.6480930084322246\n",
            "89.60333333333334\n",
            "[5 0 4 ... 5 6 8]\n",
            "[5 0 4 ... 5 6 8]\n",
            "0.6373640405502722\n",
            "89.74666666666667\n",
            "[5 0 4 ... 5 6 8]\n",
            "[5 0 4 ... 5 6 8]\n",
            "0.6279112896176006\n",
            "89.84666666666666\n",
            "[5 0 4 ... 5 6 8]\n",
            "[5 0 4 ... 5 6 8]\n",
            "0.6194979631279731\n",
            "89.97\n",
            "[5 0 4 ... 5 6 8]\n",
            "[5 0 4 ... 5 6 8]\n",
            "0.6119446703634877\n",
            "90.09166666666667\n",
            "[5 0 4 ... 5 6 8]\n",
            "[5 0 4 ... 5 6 8]\n",
            "0.605112694430962\n",
            "90.16\n",
            "[5 0 4 ... 5 6 8]\n",
            "[5 0 4 ... 5 6 8]\n",
            "0.5988928534903392\n",
            "90.25\n",
            "[5 0 4 ... 5 6 8]\n",
            "[5 0 4 ... 5 6 8]\n",
            "0.5931978733385506\n",
            "90.29833333333333\n",
            "[5 0 4 ... 5 6 8]\n",
            "[5 0 4 ... 5 6 8]\n",
            "0.5879570355747639\n",
            "90.365\n",
            "[5 0 4 ... 5 6 8]\n",
            "[5 0 4 ... 5 6 8]\n",
            "0.5831123410642131\n",
            "90.42666666666666\n",
            "[5 0 4 ... 5 6 8]\n",
            "[5 0 4 ... 5 6 8]\n",
            "0.5786157068751565\n",
            "90.505\n",
            "[5 0 4 ... 5 6 8]\n",
            "[5 0 4 ... 5 6 8]\n",
            "0.574426883228957\n",
            "90.57166666666667\n",
            "[5 0 4 ... 5 6 8]\n",
            "[5 0 4 ... 5 6 8]\n",
            "0.5705118817230725\n",
            "90.61333333333333\n",
            "[5 0 4 ... 5 6 8]\n",
            "[5 0 4 ... 5 6 8]\n",
            "0.5668417728837027\n",
            "90.67\n",
            "[5 0 4 ... 5 6 8]\n",
            "[5 0 4 ... 5 6 8]\n",
            "0.5633917546878311\n",
            "90.72\n",
            "[5 0 4 ... 5 6 8]\n",
            "[5 0 4 ... 5 6 8]\n",
            "0.5601404227185947\n",
            "90.76666666666667\n",
            "[5 0 4 ... 5 6 8]\n",
            "[5 0 4 ... 5 6 8]\n",
            "0.557069192309006\n",
            "90.81666666666666\n",
            "[5 0 4 ... 5 6 8]\n",
            "[5 0 4 ... 5 6 8]\n",
            "0.554161836616633\n",
            "90.87333333333333\n",
            "[5 0 4 ... 5 6 8]\n",
            "[5 0 4 ... 5 6 8]\n",
            "0.5514041140946182\n",
            "90.90833333333333\n"
          ]
        }
      ]
    },
    {
      "cell_type": "code",
      "source": [
        "plt.plot(cost_func)\n",
        "plt.title(\"Single Layer Loss\")\n",
        "plt.show()\n",
        "plt.plot(accuracy)\n",
        "plt.title(\"Single Layer Accuracy\")\n",
        "plt.show()"
      ],
      "metadata": {
        "id": "_CxJTOFcFU_g",
        "colab": {
          "base_uri": "https://localhost:8080/",
          "height": 545
        },
        "outputId": "69e94ac1-7974-494c-d6f4-e1aff33882a2"
      },
      "execution_count": 7,
      "outputs": [
        {
          "output_type": "display_data",
          "data": {
            "text/plain": [
              "<Figure size 432x288 with 1 Axes>"
            ],
            "image/png": "[encoded data removed]"
          },
          "metadata": {
            "needs_background": "light"
          }
        },
        {
          "output_type": "display_data",
          "data": {
            "text/plain": [
              "<Figure size 432x288 with 1 Axes>"
            ],
            "image/png": "[encoded data removed]"
          },
          "metadata": {
            "needs_background": "light"
          }
        }
      ]
    }
  ]
}